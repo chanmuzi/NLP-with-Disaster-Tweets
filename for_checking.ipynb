{
 "cells": [
  {
   "cell_type": "code",
   "execution_count": null,
   "metadata": {},
   "outputs": [],
   "source": [
    "############# DATALOADER TEST CELL ##############\n",
    "train_data_demo = train_data[:200]\n",
    "train_dataset_demo = TweetsDataset(train_data_demo,True,tokenizer)\n",
    "train_demo_size = int(0.8 * len(train_dataset_demo))\n",
    "valid_demo_size = len(train_dataset_demo) - train_demo_size\n",
    "\n",
    "test_data_demo = test_data[:100]\n",
    "test_dataset_demo = TweetsDataset(test_data_demo,False,tokenizer)\n",
    "\n",
    "train_dataset_demo,valid_dataset_demo = random_split(train_dataset_demo,[train_demo_size,valid_demo_size])\n",
    "print(f'{len(train_dataset_demo)} train demo samples')\n",
    "print(f'{len(valid_dataset_demo)} valid demo samples')\n",
    "print(f'{len(test_dataset_demo)} test demo samples')\n",
    "\n",
    "train_dataloader_demo = DataLoader(train_dataset_demo,batch_size=8,shuffle=True,pin_memory=True)\n",
    "valid_dataloader_demo = DataLoader(valid_dataset_demo,batch_size=8,shuffle=False,pin_memory=True)\n",
    "test_dataloader_demo = DataLoader(test_dataset_demo,batch_size=1,shuffle=False)"
   ]
  },
  {
   "cell_type": "code",
   "execution_count": null,
   "metadata": {},
   "outputs": [],
   "source": [
    "########## TRAIN TEST CELL ###########\n",
    "train(model,\n",
    "    device,\n",
    "    train_dataloader_demo,\n",
    "    valid_dataloader_demo,\n",
    "    configs['epochs'],\n",
    "    loss_fn,\n",
    "    optimizer,\n",
    "    metric)\n",
    "del train_dataloader, valid_dataloader"
   ]
  },
  {
   "cell_type": "code",
   "execution_count": null,
   "metadata": {},
   "outputs": [
    {
     "data": {
      "application/vnd.jupyter.widget-view+json": {
       "model_id": "67b4843392e542bcbcda2550a6d11ca0",
       "version_major": 2,
       "version_minor": 0
      },
      "text/plain": [
       "  0%|          | 0/100 [00:00<?, ?it/s]"
      ]
     },
     "metadata": {},
     "output_type": "display_data"
    },
    {
     "name": "stdout",
     "output_type": "stream",
     "text": [
      "[array([[-0.6677832,  0.5997342]], dtype=float32), array([[ 0.01757614, -0.12500189]], dtype=float32), array([[-0.26576495,  0.40461898]], dtype=float32), array([[-1.1658814,  0.8071557]], dtype=float32), array([[-0.7243128 ,  0.79836833]], dtype=float32), array([[-0.5189469 ,  0.48543862]], dtype=float32), array([[ 0.49274734, -0.73892903]], dtype=float32), array([[ 0.44126263, -0.77235836]], dtype=float32), array([[ 0.44586724, -0.6516793 ]], dtype=float32), array([[ 0.35813135, -0.61134195]], dtype=float32)]\n"
     ]
    }
   ],
   "source": [
    "########### INFERENCE TEST CELL #############\n",
    "all_preds = []\n",
    "with torch.no_grad():\n",
    "    for batch in tqdm(test_dataloader_demo):\n",
    "            input_ids = batch['input_ids'].to(device)\n",
    "            attention_mask = batch['attention_mask'].to(device)\n",
    "\n",
    "            logits = model(input_ids,attention_mask)\n",
    "            logits = logits.detach().cpu().numpy()\n",
    "            all_preds.append(logits)\n",
    "print(all_preds[:10])"
   ]
  }
 ],
 "metadata": {
  "kernelspec": {
   "display_name": "Python 3.9.12 ('base')",
   "language": "python",
   "name": "python3"
  },
  "language_info": {
   "name": "python",
   "version": "3.9.12"
  },
  "orig_nbformat": 4,
  "vscode": {
   "interpreter": {
    "hash": "7fecef7fb14ad1d71e869da5296badaba2a50d2b864b0443ebcc6afac654c29b"
   }
  }
 },
 "nbformat": 4,
 "nbformat_minor": 2
}
